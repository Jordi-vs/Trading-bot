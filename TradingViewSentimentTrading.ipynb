{
 "cells": [
  {
   "cell_type": "code",
   "execution_count": 1,
   "metadata": {},
   "outputs": [],
   "source": [
    "import finnhub\n",
    "import pandas as pd\n",
    "import datetime\n",
    "import requests\n",
    "from bs4 import BeautifulSoup\n",
    "import re\n",
    "import time"
   ]
  },
  {
   "cell_type": "code",
   "execution_count": 2,
   "metadata": {},
   "outputs": [],
   "source": [
    "class trade_idea:\n",
    "    def __init__(self, symbol, time_frame, position, time_posted):\n",
    "        self.symbol = symbol\n",
    "        self.time_frame = time_frame\n",
    "        self.position = position\n",
    "        self.time_posted = time_posted\n",
    "\n",
    "def get_trade_ideas(begin_page, end_page):\n",
    "    trade_ideas = []\n",
    "    for i in range(begin_page, end_page):\n",
    "        trade_ideas.extend(store_all_data(\"https://www.tradingview.com/markets/stocks-usa/ideas/page-%d/\" % i))\n",
    "    return trade_ideas\n",
    "\n",
    "def calculate_profit(stock, profit_exit, loss_exit):\n",
    "    buy = stock['Open'][0]\n",
    "    exit1 = buy * (1 + profit_exit)\n",
    "    exit2 = buy * (1 - loss_exit)\n",
    "    for i in stock['Open']:\n",
    "        if i > exit1:\n",
    "            return i - buy\n",
    "        if i < exit2:\n",
    "            return i - buy\n",
    "    return i - buy\n",
    "\n",
    "def store_all_data(URL):\n",
    "    page = requests.get(URL)\n",
    "    soup = BeautifulSoup(page.content, \"html.parser\")\n",
    "    data = soup.find_all(\"div\", class_=\"tv-widget-idea__info-row\")\n",
    "    trade_ideas = []\n",
    "    time_posted_data = soup.find(\"span\", class_=\"tv-card-stats__time\")\n",
    "    time_posted = time_posted_data['data-timestamp']\n",
    "    for i in data:\n",
    "        idea = re.sub('\\n', '', i.text)\n",
    "        if len(idea) < 12: continue\n",
    "        symbol_pos = idea.index(', ')\n",
    "        if(idea.endswith(\"Short\")):\n",
    "            trade_ideas.append(trade_idea(idea[:symbol_pos],idea[symbol_pos+2:-5],idea[-5:], time_posted))\n",
    "        else:\n",
    "            trade_ideas.append(trade_idea(idea[:symbol_pos],idea[symbol_pos+2:-4],idea[-4:], time_posted))            \n",
    "    return trade_ideas\n",
    "\n",
    "def calculate_total_long_profit(trade_ideas, profit_exit_margin, exit_trade_margin):\n",
    "    sum = 0\n",
    "    for i in trade_ideas:\n",
    "        stock = get_stock(i.symbol, int(float(i.time_posted)), int(float(time.time())))\n",
    "        if i.position == \"Long\":\n",
    "            profit = calculate_profit(stock, 1+profit_exit_margin, 1-exit_trade_margin)\n",
    "            sum += profit\n",
    "            print(i.symbol, i.time_frame, i.position, profit)\n",
    "            \n",
    "        if i.position == \"Short\":\n",
    "            profit = -calculate_profit(stock, 1+exit_trade_margin, 1-profit_exit_margin)\n",
    "            sum += profit\n",
    "            print(i.symbol, i.time_frame, i.position, profit)\n",
    "    print(sum)\n",
    "\n",
    "def get_stock(stock_symbol, date_begin, date_end):\n",
    "    data = finnhub_client.stock_candles(stock_symbol, 'D', date_begin, date_end)\n",
    "    df = pd.DataFrame(data)\n",
    "    df['t'] = df['t'].apply(lambda x: datetime.datetime.fromtimestamp(x))\n",
    "    stock = df[['t','o','h','l','c','v']].set_index('t')\n",
    "    stock.rename(columns={'o': 'Open', 'h': 'High', 'l':'Low','c':'Close','v':'Volume'}, inplace=True)\n",
    "    return stock        \n",
    "\n",
    "def print_trade_ideas():\n",
    "    for i in trade_ideas:\n",
    "        print(i.symbol, i.time_frame, i.position, i.time_posted)\n"
   ]
  },
  {
   "cell_type": "code",
   "execution_count": 3,
   "metadata": {},
   "outputs": [],
   "source": [
    "finnhub_client = finnhub.Client(api_key=\"cb40dtaad3i8tak19g00\")"
   ]
  },
  {
   "cell_type": "code",
   "execution_count": 7,
   "metadata": {},
   "outputs": [],
   "source": [
    "trade_ideas = get_trade_ideas(101,103)"
   ]
  },
  {
   "cell_type": "code",
   "execution_count": 8,
   "metadata": {},
   "outputs": [
    {
     "name": "stdout",
     "output_type": "stream",
     "text": [
      "WPRT 1D Long -0.040000000000000036\n",
      "AMZN 1M Long -1.5799999999999983\n",
      "DLTR 1W Long 3.7549999999999955\n",
      "MSFT 1D Long -9.929999999999978\n",
      "ARRY 1D Long -1.7699999999999996\n",
      "AAPL 1D Long 4.110000000000014\n",
      "OKTA 1D Long -9.049999999999997\n",
      "NFLX 1W Short 9.149999999999977\n",
      "BRK.B 1D Short 1.8500000000000227\n",
      "CSCO 240 Long -0.8400000000000034\n",
      "NVDA 240 Short -1.3300000000000125\n",
      "REGN 60 Long -14.259999999999991\n",
      "TRIP 1W Long -0.5500000000000007\n",
      "TWTR 1W Long 2.019999999999996\n",
      "AAPL 1D Short -4.110000000000014\n",
      "TSLA 1W Short 36.309999999999945\n",
      "TWTR 1W Short -2.019999999999996\n",
      "SBUX 480 Short 0.23499999999999943\n",
      "WMT 120 Short -3.7800000000000153\n",
      "8.169999999999945\n"
     ]
    }
   ],
   "source": [
    "calculate_total_long_profit(trade_ideas, 0.2, 0.1)"
   ]
  },
  {
   "cell_type": "code",
   "execution_count": null,
   "metadata": {},
   "outputs": [],
   "source": []
  }
 ],
 "metadata": {
  "kernelspec": {
   "display_name": "Python 3",
   "language": "python",
   "name": "python3"
  },
  "language_info": {
   "codemirror_mode": {
    "name": "ipython",
    "version": 3
   },
   "file_extension": ".py",
   "mimetype": "text/x-python",
   "name": "python",
   "nbconvert_exporter": "python",
   "pygments_lexer": "ipython3",
   "version": "3.8.5"
  }
 },
 "nbformat": 4,
 "nbformat_minor": 4
}
