{
 "cells": [
  {
   "cell_type": "code",
   "execution_count": 19,
   "metadata": {},
   "outputs": [],
   "source": [
    "#https://pypi.org/project/websocket_client/\n",
    "import json\n",
    "import pandas as pd\n",
    "import websocket\n",
    "import sys\n",
    "import time\n",
    "import datetime\n",
    "\n",
    "def on_message(ws, message):\n",
    "    res = json.loads(message)\n",
    "    format_data = \"%d/%m/%y %H:%M:%S\"\n",
    "    for i in list(res.values())[0]:\n",
    "        print(i['s'], \"Price:\", i['p'], \"Time:\", datetime.datetime.fromtimestamp(i['t'] / 1000))\n",
    "\n",
    "def on_error(ws, error):\n",
    "    print(error)\n",
    "\n",
    "def on_close(ws):\n",
    "    print(\"### closed ###\")\n",
    "\n",
    "def on_open(ws):\n",
    "#     ws.send('{\"type\":\"subscribe\",\"symbol\":\"AAPL\"}')\n",
    "    ws.send('{\"type\":\"subscribe\",\"symbol\":\"AMZN\"}')\n",
    "#     ws.send('{\"type\":\"subscribe\",\"symbol\":\"BINANCE:BTCUSDT\"}')\n",
    "#     ws.send('{\"type\":\"subscribe\",\"symbol\":\"IC MARKETS:1\"}')\n",
    "\n",
    "def run_live_data():\n",
    "    websocket.enableTrace(False)\n",
    "    ws = websocket.WebSocketApp(\"wss://ws.finnhub.io?token=cb40dtaad3i8tak19g00\",\n",
    "                              on_message = on_message,\n",
    "                              on_error = on_error,\n",
    "                              on_close = on_close)\n",
    "    ws.on_open = on_open\n",
    "    ws.run_forever()"
   ]
  },
  {
   "cell_type": "code",
   "execution_count": null,
   "metadata": {},
   "outputs": [],
   "source": [
    "run_live_data()"
   ]
  },
  {
   "cell_type": "code",
   "execution_count": null,
   "metadata": {},
   "outputs": [],
   "source": []
  }
 ],
 "metadata": {
  "kernelspec": {
   "display_name": "Python 3",
   "language": "python",
   "name": "python3"
  },
  "language_info": {
   "codemirror_mode": {
    "name": "ipython",
    "version": 3
   },
   "file_extension": ".py",
   "mimetype": "text/x-python",
   "name": "python",
   "nbconvert_exporter": "python",
   "pygments_lexer": "ipython3",
   "version": "3.8.5"
  }
 },
 "nbformat": 4,
 "nbformat_minor": 4
}
